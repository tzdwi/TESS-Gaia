{
 "cells": [
  {
   "cell_type": "code",
   "execution_count": 1,
   "metadata": {},
   "outputs": [],
   "source": [
    "import numpy as np\n",
    "import matplotlib.pyplot as plt\n",
    "\n",
    "%matplotlib inline"
   ]
  },
  {
   "cell_type": "markdown",
   "metadata": {},
   "source": [
    "First, we upload the TESS Sectors 1-4 Target Lists (in this repo, and obtainable [here](https://tess.mit.edu/observations/sector-1/#sector1_targets) for Sector 1 and similar URLs for the others) to ESA's [Gaia Archive](https://gea.esac.esa.int/archive/). Then we run the following ADQL query:"
   ]
  },
  {
   "cell_type": "markdown",
   "metadata": {},
   "source": [
    "```SQL\n",
    "SELECT gaia.*, tess.*, gdist.*, distance(\n",
    "  POINT('ICRS', tess.ra, tess.dec),\n",
    "  POINT('ICRS', gaia.ra, gaia.dec)) AS dist\n",
    "FROM gaiadr2.gaia_source AS gaia, USERNAME.tess_sectorN AS tess\n",
    "JOIN external.gaiadr2_geometric_distance as gdist ON gdist.source_id = gaia.source_id\n",
    "WHERE 1=CONTAINS(\n",
    "  POINT('ICRS', tess.ra, tess.dec),\n",
    "  CIRCLE('ICRS', gaia.ra, gaia.dec, DISTANCE)\n",
    ")\n",
    "```"
   ]
  },
  {
   "cell_type": "markdown",
   "metadata": {},
   "source": [
    "where DISTANCE is 1 or 5 arcseconds, converted to decimal degrees. Note: we lost about 1000 sources per sector in the 1\" crossmatch in Sectors 1 and 2 (probably more for Sectors 3 and 4 which are closer to the Galactic Plane), while the 5\" match contains multiple matches for some sources. Note that there is also overlap between sectors (which there should be: some targets are observed in multiple sectors). User caution is warranted.\n",
    "\n",
    "Reading in the data is as simple as"
   ]
  },
  {
   "cell_type": "code",
   "execution_count": 2,
   "metadata": {},
   "outputs": [
    {
     "name": "stderr",
     "output_type": "stream",
     "text": [
      "/Users/carina/anaconda/lib/python3.5/site-packages/ipykernel/__main__.py:8: FutureWarning: Sorting because non-concatenation axis is not aligned. A future version\n",
      "of pandas will change to not sort by default.\n",
      "\n",
      "To accept the future behavior, pass 'sort=False'.\n",
      "\n",
      "To retain the current behavior and silence the warning, pass 'sort=True'.\n",
      "\n"
     ]
    }
   ],
   "source": [
    "import pandas as pd\n",
    "\n",
    "sector1 = pd.read_csv('gaiatess1_xmatch_1arsec-result.csv')\n",
    "sector2 = pd.read_csv('gaiatess2_xmatch_1arsec-result.csv')\n",
    "sector3 = pd.read_csv('gaiatess3_xmatch_1arsec-result.csv')\n",
    "sector4 = pd.read_csv('gaiatess4_xmatch_1arsec-result.csv')\n",
    "\n",
    "data = pd.concat([sector1,sector2,sector3,sector4])"
   ]
  },
  {
   "cell_type": "markdown",
   "metadata": {},
   "source": [
    "We have all columns available from Gaia and the TESS target lists (plus the distance on the sky between the TESS and Gaia source), as well as the geometric distances from Bailor-Jones et al. 2018"
   ]
  },
  {
   "cell_type": "code",
   "execution_count": 3,
   "metadata": {},
   "outputs": [
    {
     "name": "stdout",
     "output_type": "stream",
     "text": [
      "a_g_percentile_lower\n",
      "a_g_percentile_upper\n",
      "a_g_val\n",
      "astrometric_chi2_al\n",
      "astrometric_excess_noise\n",
      "astrometric_excess_noise_sig\n",
      "astrometric_gof_al\n",
      "astrometric_matched_observations\n",
      "astrometric_n_bad_obs_al\n",
      "astrometric_n_good_obs_al\n",
      "astrometric_n_obs_ac\n",
      "astrometric_n_obs_al\n",
      "astrometric_params_solved\n",
      "astrometric_primary_flag\n",
      "astrometric_pseudo_colour\n",
      "astrometric_pseudo_colour_error\n",
      "astrometric_sigma5d_max\n",
      "astrometric_weight_al\n",
      "b\n",
      "bp_g\n",
      "bp_rp\n",
      "camera\n",
      "ccd\n",
      "datalink_url\n",
      "dec\n",
      "dec.1\n",
      "dec_error\n",
      "dec_parallax_corr\n",
      "dec_pmdec_corr\n",
      "dec_pmra_corr\n",
      "designation\n",
      "dist\n",
      "duplicated_source\n",
      "e_bp_min_rp_percentile_lower\n",
      "e_bp_min_rp_percentile_upper\n",
      "e_bp_min_rp_val\n",
      "ecl_lat\n",
      "ecl_lon\n",
      "epoch_photometry_url\n",
      "flame_flags\n",
      "frame_rotator_object_type\n",
      "g_rp\n",
      "l\n",
      "lum_percentile_lower\n",
      "lum_percentile_upper\n",
      "lum_val\n",
      "matched_observations\n",
      "mean_varpi_factor_al\n",
      "modality_flag\n",
      "parallax\n",
      "parallax_error\n",
      "parallax_over_error\n",
      "parallax_pmdec_corr\n",
      "parallax_pmra_corr\n",
      "phot_bp_mean_flux\n",
      "phot_bp_mean_flux_error\n",
      "phot_bp_mean_flux_over_error\n",
      "phot_bp_mean_mag\n",
      "phot_bp_n_obs\n",
      "phot_bp_rp_excess_factor\n",
      "phot_g_mean_flux\n",
      "phot_g_mean_flux_error\n",
      "phot_g_mean_flux_over_error\n",
      "phot_g_mean_mag\n",
      "phot_g_n_obs\n",
      "phot_proc_mode\n",
      "phot_rp_mean_flux\n",
      "phot_rp_mean_flux_error\n",
      "phot_rp_mean_flux_over_error\n",
      "phot_rp_mean_mag\n",
      "phot_rp_n_obs\n",
      "phot_variable_flag\n",
      "pmdec\n",
      "pmdec_error\n",
      "pmra\n",
      "pmra_error\n",
      "pmra_pmdec_corr\n",
      "priam_flags\n",
      "r_est\n",
      "r_hi\n",
      "r_len\n",
      "r_lo\n",
      "ra\n",
      "ra.1\n",
      "ra_dec_corr\n",
      "ra_error\n",
      "ra_parallax_corr\n",
      "ra_pmdec_corr\n",
      "ra_pmra_corr\n",
      "radial_velocity\n",
      "radial_velocity_error\n",
      "radius_percentile_lower\n",
      "radius_percentile_upper\n",
      "radius_val\n",
      "random_index\n",
      "ref_epoch\n",
      "result_flag\n",
      "rv_nb_transits\n",
      "rv_template_fe_h\n",
      "rv_template_logg\n",
      "rv_template_teff\n",
      "solution_id\n",
      "source_id\n",
      "source_id.1\n",
      "teff_percentile_lower\n",
      "teff_percentile_upper\n",
      "teff_val\n",
      "tess_sector1_oid\n",
      "tess_sector2_oid\n",
      "tess_sector3_oid\n",
      "tess_sector4_oid\n",
      "ticid\n",
      "tmag\n",
      "visibility_periods_used\n"
     ]
    }
   ],
   "source": [
    "for i in np.array(data.columns):\n",
    "    print(i)"
   ]
  },
  {
   "cell_type": "markdown",
   "metadata": {},
   "source": [
    "We can have some fun with the data. Let's estimate the absolute Gaia magnitude $M_G$, as well as deredden the Gaia $G_{BP}-G_{RP}$ color using coefficients from Malhan, Ibata & Martin (2018a)"
   ]
  },
  {
   "cell_type": "code",
   "execution_count": 4,
   "metadata": {},
   "outputs": [],
   "source": [
    "data['M_G'] = data['phot_g_mean_mag'] - 5 * np.log10(data['r_est']) + 5 - data['a_g_val']\n",
    "\n",
    "#Coefficients from Malhan, Ibata & Martin (2018a), ratio of A_X/A_V\n",
    "ag_av = 0.85926\n",
    "ab_av = 1.06794\n",
    "ar_av = 0.65199\n",
    "\n",
    "data['E(BP-RP)'] = (data['a_g_val']/ag_av)*(ab_av - ar_av)\n",
    "data['(BP_RP)_0'] = data['phot_bp_mean_mag'] - data['phot_rp_mean_mag'] - data['E(BP-RP)']"
   ]
  },
  {
   "cell_type": "code",
   "execution_count": 5,
   "metadata": {},
   "outputs": [
    {
     "data": {
      "image/png": "[encoded data removed]",
      "text/plain": [
       "<Figure size 432x288 with 1 Axes>"
      ]
     },
     "metadata": {
      "needs_background": "light"
     },
     "output_type": "display_data"
    }
   ],
   "source": [
    "plt.scatter(data['(BP_RP)_0'],data['M_G'],s=1,c='k')\n",
    "plt.gca().invert_yaxis()\n",
    "plt.xlabel(r'$G_{BP}-G_{RP}$')\n",
    "plt.ylabel(r'$M_G$') ;"
   ]
  }
 ],
 "metadata": {
  "kernelspec": {
   "display_name": "Python [default]",
   "language": "python",
   "name": "python3"
  },
  "language_info": {
   "codemirror_mode": {
    "name": "ipython",
    "version": 3
   },
   "file_extension": ".py",
   "mimetype": "text/x-python",
   "name": "python",
   "nbconvert_exporter": "python",
   "pygments_lexer": "ipython3",
   "version": "3.5.1"
  }
 },
 "nbformat": 4,
 "nbformat_minor": 2
}
