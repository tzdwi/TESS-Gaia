{
 "cells": [
  {
   "cell_type": "markdown",
   "metadata": {},
   "source": [
    "First, we upload the TESS Sectors 1 and 2 Target Lists (in this repo, and obtainable [here](https://tess.mit.edu/observations/sector-1/) and [here](https://tess.mit.edu/observations/sector-2/)) to ESA's [Gaia Archive](https://gea.esac.esa.int/archive/). Then we run the following ADQL query:"
   ]
  },
  {
   "cell_type": "markdown",
   "metadata": {},
   "source": [
    "```SQL\n",
    "SELECT gaia.*, tess.*, gdist.*, distance(\n",
    "  POINT('ICRS', tess.ra, tess.dec),\n",
    "  POINT('ICRS', gaia.ra, gaia.dec)) AS dist\n",
    "FROM gaiadr2.gaia_source AS gaia, USERNAME.tess_sectorN AS tess\n",
    "JOIN external.gaiadr2_geometric_distance as gdist ON gdist.source_id = gaia.source_id\n",
    "WHERE 1=CONTAINS(\n",
    "  POINT('ICRS', tess.ra, tess.dec),\n",
    "  CIRCLE('ICRS', gaia.ra, gaia.dec, DISTANCE)\n",
    ")\n",
    "```"
   ]
  },
  {
   "cell_type": "markdown",
   "metadata": {},
   "source": [
    "where DISTANCE is 1 or 5 arcseconds, converted to decimal degrees.\n",
    "\n",
    "Reading in the data is as simple as"
   ]
  },
  {
   "cell_type": "code",
   "execution_count": null,
   "metadata": {},
   "outputs": [],
   "source": [
    "import pandas as pd\n",
    "\n",
    "sector1 = pd.read_csv(TABLE NAME)\n",
    "sector2 = pd.read_csv(TABLE NAME)\n",
    "\n",
    "data = pd.concat([sector1,sector2])"
   ]
  },
  {
   "cell_type": "markdown",
   "metadata": {},
   "source": [
    "We have all columns available from Gaia and the TESS target lists (plus the distance on the sky between the TESS and Gaia source), as well as the geometric distances from Bailor-Jones et al. 2018"
   ]
  },
  {
   "cell_type": "code",
   "execution_count": null,
   "metadata": {},
   "outputs": [],
   "source": [
    "data.columns"
   ]
  },
  {
   "cell_type": "markdown",
   "metadata": {},
   "source": [
    "We can have some fun with the data. Let's estimate the absolute Gaia magnitude $M_G$, as well as deredden the Gaia $G_{BP}-G_{RP}$ color using coefficients from Malhan, Ibata & Martin (2018a)"
   ]
  },
  {
   "cell_type": "code",
   "execution_count": null,
   "metadata": {},
   "outputs": [],
   "source": [
    "data['M_G'] = data['phot_g_mean_mag'] - 5 * np.log10(data['r_est']) + 5 - data['a_g_val']\n",
    "\n",
    "#Coefficients from Malhan, Ibata & Martin (2018a), ratio of A_X/A_V\n",
    "ag_av = 0.85926\n",
    "ab_av = 1.06794\n",
    "ar_av = 0.65199\n",
    "\n",
    "data['E(BP-RP)'] = (data['a_g_val']/ag_av)*(ab_av - ar_av)\n",
    "data['(BP_RP)_0'] = data['phot_bp_mean_mag'] - data['phot_rp_mean_mag'] - data['E(BP-RP)']"
   ]
  },
  {
   "cell_type": "code",
   "execution_count": null,
   "metadata": {},
   "outputs": [],
   "source": [
    "import matplotlib.pyplot as plt\n",
    "%matplotlib inline\n",
    "\n",
    "plt.scatter(data['(BP_RP)_0'],data['M_G'])\n",
    "plt.gca().invert_yaxis()\n",
    "plt.xlabel(r'$G_{BP}-G_{RP}$')\n",
    "plt.ylabel(r'$M_G$')"
   ]
  }
 ],
 "metadata": {
  "kernelspec": {
   "display_name": "Python [default]",
   "language": "python",
   "name": "python3"
  },
  "language_info": {
   "codemirror_mode": {
    "name": "ipython",
    "version": 3
   },
   "file_extension": ".py",
   "mimetype": "text/x-python",
   "name": "python",
   "nbconvert_exporter": "python",
   "pygments_lexer": "ipython3",
   "version": "3.5.1"
  }
 },
 "nbformat": 4,
 "nbformat_minor": 2
}
